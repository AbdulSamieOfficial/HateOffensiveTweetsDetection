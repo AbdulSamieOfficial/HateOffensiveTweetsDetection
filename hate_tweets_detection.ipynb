{
  "cells": [
    {
      "cell_type": "code",
      "execution_count": null,
      "id": "2395f7df",
      "metadata": {
        "scrolled": false,
        "colab": {
          "base_uri": "https://localhost:8080/"
        },
        "id": "2395f7df",
        "outputId": "688a8c4f-9f39-4332-975e-1dabebce4c07"
      },
      "outputs": [
        {
          "output_type": "stream",
          "name": "stderr",
          "text": [
            "[nltk_data] Downloading package stopwords to /root/nltk_data...\n",
            "[nltk_data]   Unzipping corpora/stopwords.zip.\n"
          ]
        }
      ],
      "source": [
        "import pandas as pd\n",
        "import numpy as np\n",
        "import sys\n",
        "import matplotlib as plt\n",
        "\n",
        "from sklearn.compose import ColumnTransformer\n",
        "from sklearn.linear_model import LogisticRegression\n",
        "from sklearn.model_selection import train_test_split\n",
        "from sklearn.naive_bayes import GaussianNB\n",
        "from sklearn.preprocessing import OneHotEncoder\n",
        "\n",
        "import re\n",
        "import nltk\n",
        "nltk.download('stopwords')\n",
        "from nltk.corpus import stopwords\n",
        "from nltk.stem.porter import PorterStemmer\n",
        "from sklearn.feature_extraction.text import CountVectorizer\n",
        "from sklearn.metrics import confusion_matrix, accuracy_score, classification_report"
      ]
    },
    {
      "cell_type": "code",
      "execution_count": null,
      "id": "ce179e35",
      "metadata": {
        "colab": {
          "base_uri": "https://localhost:8080/",
          "height": 206
        },
        "id": "ce179e35",
        "outputId": "f6583682-9317-4960-88f0-66a864f1f49f"
      },
      "outputs": [
        {
          "output_type": "execute_result",
          "data": {
            "text/plain": [
              "   Unnamed: 0  count  hate_speech  offensive_language  neither  class  \\\n",
              "0           0      3            0                   0        3      2   \n",
              "1           1      3            0                   3        0      1   \n",
              "2           2      3            0                   3        0      1   \n",
              "3           3      3            0                   2        1      1   \n",
              "4           4      6            0                   6        0      1   \n",
              "\n",
              "                                               tweet  \n",
              "0  !!! RT @mayasolovely: As a woman you shouldn't...  \n",
              "1  !!!!! RT @mleew17: boy dats cold...tyga dwn ba...  \n",
              "2  !!!!!!! RT @UrKindOfBrand Dawg!!!! RT @80sbaby...  \n",
              "3  !!!!!!!!! RT @C_G_Anderson: @viva_based she lo...  \n",
              "4  !!!!!!!!!!!!! RT @ShenikaRoberts: The shit you...  "
            ],
            "text/html": [
              "\n",
              "  <div id=\"df-f8970657-b7ea-41ce-8a2c-95d535b59d71\">\n",
              "    <div class=\"colab-df-container\">\n",
              "      <div>\n",
              "<style scoped>\n",
              "    .dataframe tbody tr th:only-of-type {\n",
              "        vertical-align: middle;\n",
              "    }\n",
              "\n",
              "    .dataframe tbody tr th {\n",
              "        vertical-align: top;\n",
              "    }\n",
              "\n",
              "    .dataframe thead th {\n",
              "        text-align: right;\n",
              "    }\n",
              "</style>\n",
              "<table border=\"1\" class=\"dataframe\">\n",
              "  <thead>\n",
              "    <tr style=\"text-align: right;\">\n",
              "      <th></th>\n",
              "      <th>Unnamed: 0</th>\n",
              "      <th>count</th>\n",
              "      <th>hate_speech</th>\n",
              "      <th>offensive_language</th>\n",
              "      <th>neither</th>\n",
              "      <th>class</th>\n",
              "      <th>tweet</th>\n",
              "    </tr>\n",
              "  </thead>\n",
              "  <tbody>\n",
              "    <tr>\n",
              "      <th>0</th>\n",
              "      <td>0</td>\n",
              "      <td>3</td>\n",
              "      <td>0</td>\n",
              "      <td>0</td>\n",
              "      <td>3</td>\n",
              "      <td>2</td>\n",
              "      <td>!!! RT @mayasolovely: As a woman you shouldn't...</td>\n",
              "    </tr>\n",
              "    <tr>\n",
              "      <th>1</th>\n",
              "      <td>1</td>\n",
              "      <td>3</td>\n",
              "      <td>0</td>\n",
              "      <td>3</td>\n",
              "      <td>0</td>\n",
              "      <td>1</td>\n",
              "      <td>!!!!! RT @mleew17: boy dats cold...tyga dwn ba...</td>\n",
              "    </tr>\n",
              "    <tr>\n",
              "      <th>2</th>\n",
              "      <td>2</td>\n",
              "      <td>3</td>\n",
              "      <td>0</td>\n",
              "      <td>3</td>\n",
              "      <td>0</td>\n",
              "      <td>1</td>\n",
              "      <td>!!!!!!! RT @UrKindOfBrand Dawg!!!! RT @80sbaby...</td>\n",
              "    </tr>\n",
              "    <tr>\n",
              "      <th>3</th>\n",
              "      <td>3</td>\n",
              "      <td>3</td>\n",
              "      <td>0</td>\n",
              "      <td>2</td>\n",
              "      <td>1</td>\n",
              "      <td>1</td>\n",
              "      <td>!!!!!!!!! RT @C_G_Anderson: @viva_based she lo...</td>\n",
              "    </tr>\n",
              "    <tr>\n",
              "      <th>4</th>\n",
              "      <td>4</td>\n",
              "      <td>6</td>\n",
              "      <td>0</td>\n",
              "      <td>6</td>\n",
              "      <td>0</td>\n",
              "      <td>1</td>\n",
              "      <td>!!!!!!!!!!!!! RT @ShenikaRoberts: The shit you...</td>\n",
              "    </tr>\n",
              "  </tbody>\n",
              "</table>\n",
              "</div>\n",
              "      <button class=\"colab-df-convert\" onclick=\"convertToInteractive('df-f8970657-b7ea-41ce-8a2c-95d535b59d71')\"\n",
              "              title=\"Convert this dataframe to an interactive table.\"\n",
              "              style=\"display:none;\">\n",
              "        \n",
              "  <svg xmlns=\"http://www.w3.org/2000/svg\" height=\"24px\"viewBox=\"0 0 24 24\"\n",
              "       width=\"24px\">\n",
              "    <path d=\"M0 0h24v24H0V0z\" fill=\"none\"/>\n",
              "    <path d=\"M18.56 5.44l.94 2.06.94-2.06 2.06-.94-2.06-.94-.94-2.06-.94 2.06-2.06.94zm-11 1L8.5 8.5l.94-2.06 2.06-.94-2.06-.94L8.5 2.5l-.94 2.06-2.06.94zm10 10l.94 2.06.94-2.06 2.06-.94-2.06-.94-.94-2.06-.94 2.06-2.06.94z\"/><path d=\"M17.41 7.96l-1.37-1.37c-.4-.4-.92-.59-1.43-.59-.52 0-1.04.2-1.43.59L10.3 9.45l-7.72 7.72c-.78.78-.78 2.05 0 2.83L4 21.41c.39.39.9.59 1.41.59.51 0 1.02-.2 1.41-.59l7.78-7.78 2.81-2.81c.8-.78.8-2.07 0-2.86zM5.41 20L4 18.59l7.72-7.72 1.47 1.35L5.41 20z\"/>\n",
              "  </svg>\n",
              "      </button>\n",
              "      \n",
              "  <style>\n",
              "    .colab-df-container {\n",
              "      display:flex;\n",
              "      flex-wrap:wrap;\n",
              "      gap: 12px;\n",
              "    }\n",
              "\n",
              "    .colab-df-convert {\n",
              "      background-color: #E8F0FE;\n",
              "      border: none;\n",
              "      border-radius: 50%;\n",
              "      cursor: pointer;\n",
              "      display: none;\n",
              "      fill: #1967D2;\n",
              "      height: 32px;\n",
              "      padding: 0 0 0 0;\n",
              "      width: 32px;\n",
              "    }\n",
              "\n",
              "    .colab-df-convert:hover {\n",
              "      background-color: #E2EBFA;\n",
              "      box-shadow: 0px 1px 2px rgba(60, 64, 67, 0.3), 0px 1px 3px 1px rgba(60, 64, 67, 0.15);\n",
              "      fill: #174EA6;\n",
              "    }\n",
              "\n",
              "    [theme=dark] .colab-df-convert {\n",
              "      background-color: #3B4455;\n",
              "      fill: #D2E3FC;\n",
              "    }\n",
              "\n",
              "    [theme=dark] .colab-df-convert:hover {\n",
              "      background-color: #434B5C;\n",
              "      box-shadow: 0px 1px 3px 1px rgba(0, 0, 0, 0.15);\n",
              "      filter: drop-shadow(0px 1px 2px rgba(0, 0, 0, 0.3));\n",
              "      fill: #FFFFFF;\n",
              "    }\n",
              "  </style>\n",
              "\n",
              "      <script>\n",
              "        const buttonEl =\n",
              "          document.querySelector('#df-f8970657-b7ea-41ce-8a2c-95d535b59d71 button.colab-df-convert');\n",
              "        buttonEl.style.display =\n",
              "          google.colab.kernel.accessAllowed ? 'block' : 'none';\n",
              "\n",
              "        async function convertToInteractive(key) {\n",
              "          const element = document.querySelector('#df-f8970657-b7ea-41ce-8a2c-95d535b59d71');\n",
              "          const dataTable =\n",
              "            await google.colab.kernel.invokeFunction('convertToInteractive',\n",
              "                                                     [key], {});\n",
              "          if (!dataTable) return;\n",
              "\n",
              "          const docLinkHtml = 'Like what you see? Visit the ' +\n",
              "            '<a target=\"_blank\" href=https://colab.research.google.com/notebooks/data_table.ipynb>data table notebook</a>'\n",
              "            + ' to learn more about interactive tables.';\n",
              "          element.innerHTML = '';\n",
              "          dataTable['output_type'] = 'display_data';\n",
              "          await google.colab.output.renderOutput(dataTable, element);\n",
              "          const docLink = document.createElement('div');\n",
              "          docLink.innerHTML = docLinkHtml;\n",
              "          element.appendChild(docLink);\n",
              "        }\n",
              "      </script>\n",
              "    </div>\n",
              "  </div>\n",
              "  "
            ]
          },
          "metadata": {},
          "execution_count": 2
        }
      ],
      "source": [
        "\n",
        "# ----------Testing----------\n",
        "# pd.set_option(\"display.max_rows\", None, \"display.max_columns\", None)\n",
        "# np.set_printoptions(threshold=sys.maxsize)\n",
        "\n",
        "DataSet = pd.read_csv(r'labeled_data.csv')\n",
        "# ----------Testing----------\n",
        "# print(DataSet.head())\n",
        "# print(DataSet.info())\n",
        "# print(DataSet.describe().T)\n",
        "DataSet.head()"
      ]
    },
    {
      "cell_type": "code",
      "execution_count": null,
      "id": "876c946a",
      "metadata": {
        "colab": {
          "base_uri": "https://localhost:8080/"
        },
        "id": "876c946a",
        "outputId": "c84edc2a-9479-462e-9e2a-5ab697b88a5a"
      },
      "outputs": [
        {
          "output_type": "stream",
          "name": "stdout",
          "text": [
            "<class 'pandas.core.frame.DataFrame'>\n",
            "RangeIndex: 24783 entries, 0 to 24782\n",
            "Data columns (total 7 columns):\n",
            " #   Column              Non-Null Count  Dtype \n",
            "---  ------              --------------  ----- \n",
            " 0   Unnamed: 0          24783 non-null  int64 \n",
            " 1   count               24783 non-null  int64 \n",
            " 2   hate_speech         24783 non-null  int64 \n",
            " 3   offensive_language  24783 non-null  int64 \n",
            " 4   neither             24783 non-null  int64 \n",
            " 5   class               24783 non-null  int64 \n",
            " 6   tweet               24783 non-null  object\n",
            "dtypes: int64(6), object(1)\n",
            "memory usage: 1.3+ MB\n"
          ]
        }
      ],
      "source": [
        "DataSet.info()"
      ]
    },
    {
      "cell_type": "code",
      "execution_count": null,
      "id": "2219e5fd",
      "metadata": {
        "id": "2219e5fd"
      },
      "outputs": [],
      "source": [
        "dt_transformed = DataSet[['class','tweet']]\n",
        "y = dt_transformed.iloc[:, :-1].values\n"
      ]
    },
    {
      "cell_type": "code",
      "execution_count": null,
      "id": "2114ddcf",
      "metadata": {
        "id": "2114ddcf"
      },
      "outputs": [],
      "source": [
        "#encoding the dependent variable\n",
        "ct = ColumnTransformer(transformers=[('encoder', OneHotEncoder(), [0])])\n",
        "y = np.array(ct.fit_transform(y))"
      ]
    },
    {
      "cell_type": "code",
      "execution_count": null,
      "id": "f41fef01",
      "metadata": {
        "colab": {
          "base_uri": "https://localhost:8080/",
          "height": 390
        },
        "id": "f41fef01",
        "outputId": "31d1fdba-fc52-4615-9150-fdeea321b9a1"
      },
      "outputs": [
        {
          "output_type": "stream",
          "name": "stdout",
          "text": [
            "y= [[0. 0. 1.]\n",
            " [0. 1. 0.]\n",
            " [0. 1. 0.]\n",
            " ...\n",
            " [0. 1. 0.]\n",
            " [0. 1. 0.]\n",
            " [0. 0. 1.]]\n"
          ]
        },
        {
          "output_type": "display_data",
          "data": {
            "text/plain": [
              "<Figure size 432x288 with 1 Axes>"
            ],
            "image/png": "[encoded data removed]"
          },
          "metadata": {
            "needs_background": "light"
          }
        }
      ],
      "source": [
        "DataSet['class'].hist()\n",
        "print('y=',y)\n"
      ]
    },
    {
      "cell_type": "code",
      "execution_count": null,
      "id": "c54d9a12",
      "metadata": {
        "id": "c54d9a12"
      },
      "outputs": [],
      "source": [
        "#up uptil this point the data has been slpit into 2 variables that will be used to fit hate speech and offensive speech models\n",
        "y_df = pd.DataFrame(y)\n",
        "y_hate = np.array(y_df[0])\n",
        "y_offensive = np.array(y_df[1])\n",
        "y_neither = np.array(y_df[2])\n"
      ]
    },
    {
      "cell_type": "code",
      "execution_count": null,
      "id": "afa00616",
      "metadata": {
        "id": "afa00616"
      },
      "outputs": [],
      "source": [
        "# ----------Testing----------\n",
        "#print(y_hate)\n",
        "#print(y_offensive)\n",
        "\n",
        "\n",
        "#cleaning the texts\n",
        "corpus = []\n",
        "for i in range(0, 24783):\n",
        "    review = re.sub('[^a-zA-Z]', ' ', dt_transformed['tweet'][i])\n",
        "    review = review.lower()\n",
        "    review = review.split()\n",
        "    ps=PorterStemmer()\n",
        "    all_stopwords = stopwords.words('english')\n",
        "    all_stopwords.remove('not')\n",
        "    review = [ps.stem(word) for word in review if not word in set(all_stopwords)]\n",
        "    review = ' '.join(review)\n",
        "    corpus.append(review)\n",
        "    \n",
        "    # ----------Testing----------\n",
        "# print(corpus)\n",
        "\n",
        "cv = CountVectorizer(max_features = 2000)\n",
        "x = cv.fit_transform(corpus).toarray()"
      ]
    },
    {
      "cell_type": "code",
      "execution_count": null,
      "id": "efacddd6",
      "metadata": {
        "id": "efacddd6"
      },
      "outputs": [],
      "source": [
        "#splitting data into training set 70% and test set 30%\n",
        "x_train , x_test , y_train , y_test = train_test_split(x, y_hate, test_size=0.30, random_state= 0)\n"
      ]
    },
    {
      "cell_type": "code",
      "execution_count": null,
      "id": "8080a2c8",
      "metadata": {
        "colab": {
          "base_uri": "https://localhost:8080/"
        },
        "id": "8080a2c8",
        "outputId": "2db4933c-aaea-4d73-ce66-c90bc62d106c"
      },
      "outputs": [
        {
          "output_type": "execute_result",
          "data": {
            "text/plain": [
              "GaussianNB()"
            ]
          },
          "metadata": {},
          "execution_count": 10
        }
      ],
      "source": [
        "#naive bayes\n",
        "classifier_np = GaussianNB()\n",
        "classifier_np.fit(x_train, y_train)"
      ]
    },
    {
      "cell_type": "code",
      "execution_count": null,
      "id": "1d31b0c3",
      "metadata": {
        "colab": {
          "base_uri": "https://localhost:8080/"
        },
        "id": "1d31b0c3",
        "outputId": "646a4dfc-342d-46d9-f7fa-7dacff3c36e0"
      },
      "outputs": [
        {
          "output_type": "execute_result",
          "data": {
            "text/plain": [
              "LogisticRegression(random_state=0)"
            ]
          },
          "metadata": {},
          "execution_count": 11
        }
      ],
      "source": [
        "#logistic regression\n",
        "classifier_lr = LogisticRegression(random_state=0)\n",
        "classifier_lr.fit(x_train, y_train)"
      ]
    },
    {
      "cell_type": "code",
      "execution_count": null,
      "id": "517ad9da",
      "metadata": {
        "colab": {
          "base_uri": "https://localhost:8080/"
        },
        "id": "517ad9da",
        "outputId": "73bfe36e-2cd7-4039-a3be-09cad195369c"
      },
      "outputs": [
        {
          "output_type": "execute_result",
          "data": {
            "text/plain": [
              "SVC()"
            ]
          },
          "metadata": {},
          "execution_count": 12
        }
      ],
      "source": [
        "#svm classifier\n",
        "from sklearn import svm\n",
        "\n",
        "classifier_svm = svm.SVC()\n",
        "classifier_svm.fit(x_train, y_train)"
      ]
    },
    {
      "cell_type": "code",
      "execution_count": null,
      "id": "85344e97",
      "metadata": {
        "colab": {
          "base_uri": "https://localhost:8080/"
        },
        "id": "85344e97",
        "outputId": "54bebd0c-cbf7-4e91-81c7-63e83871e66d"
      },
      "outputs": [
        {
          "output_type": "stream",
          "name": "stdout",
          "text": [
            "[[3289 3719]\n",
            " [ 168  259]]\n",
            "              precision    recall  f1-score   support\n",
            "\n",
            "         0.0       0.95      0.47      0.63      7008\n",
            "         1.0       0.07      0.61      0.12       427\n",
            "\n",
            "    accuracy                           0.48      7435\n",
            "   macro avg       0.51      0.54      0.37      7435\n",
            "weighted avg       0.90      0.48      0.60      7435\n",
            "\n"
          ]
        }
      ],
      "source": [
        "#making confusion matrix for each model\n",
        "\n",
        "\n",
        "#naive bayes\n",
        "y_pred_np = classifier_np.predict(x_test)\n",
        "cm= confusion_matrix(y_test, y_pred_np)\n",
        "print(cm)\n",
        "\n",
        "report = classification_report( y_test, y_pred_np )\n",
        "print(report)"
      ]
    },
    {
      "cell_type": "code",
      "execution_count": null,
      "id": "eebba445",
      "metadata": {
        "colab": {
          "base_uri": "https://localhost:8080/"
        },
        "id": "eebba445",
        "outputId": "f0f69644-bbcc-4f68-c126-39c08d84f79d"
      },
      "outputs": [
        {
          "output_type": "stream",
          "name": "stdout",
          "text": [
            "[[6964   44]\n",
            " [ 372   55]]\n",
            "              precision    recall  f1-score   support\n",
            "\n",
            "         0.0       0.95      0.99      0.97      7008\n",
            "         1.0       0.56      0.13      0.21       427\n",
            "\n",
            "    accuracy                           0.94      7435\n",
            "   macro avg       0.75      0.56      0.59      7435\n",
            "weighted avg       0.93      0.94      0.93      7435\n",
            "\n"
          ]
        }
      ],
      "source": [
        "#SVM\n",
        "y_pred_svm = classifier_svm.predict(x_test)\n",
        "cm= confusion_matrix(y_test, y_pred_svm)\n",
        "print(cm)\n",
        "\n",
        "report_svm = classification_report( y_test, y_pred_svm )\n",
        "print(report_svm)"
      ]
    },
    {
      "cell_type": "code",
      "execution_count": null,
      "id": "bd17272f",
      "metadata": {
        "colab": {
          "base_uri": "https://localhost:8080/"
        },
        "id": "bd17272f",
        "outputId": "9e6e1a91-6891-4407-94f7-6e1370b00390"
      },
      "outputs": [
        {
          "output_type": "stream",
          "name": "stdout",
          "text": [
            "[[6911   97]\n",
            " [ 347   80]]\n",
            "              precision    recall  f1-score   support\n",
            "\n",
            "         0.0       0.95      0.99      0.97      7008\n",
            "         1.0       0.45      0.19      0.26       427\n",
            "\n",
            "    accuracy                           0.94      7435\n",
            "   macro avg       0.70      0.59      0.62      7435\n",
            "weighted avg       0.92      0.94      0.93      7435\n",
            "\n"
          ]
        }
      ],
      "source": [
        "#logistic regression\n",
        "y_pred_lr = classifier_lr.predict(x_test)\n",
        "cm = confusion_matrix(y_test, y_pred_lr)\n",
        "print(cm)\n",
        "\n",
        "report_lr = classification_report( y_test, y_pred_lr )\n",
        "print(report_lr)"
      ]
    },
    {
      "cell_type": "code",
      "execution_count": null,
      "id": "92387668",
      "metadata": {
        "colab": {
          "base_uri": "https://localhost:8080/"
        },
        "id": "92387668",
        "outputId": "406e2dbe-1f9e-4be3-a67c-0d29b9c5bef1"
      },
      "outputs": [
        {
          "output_type": "stream",
          "name": "stdout",
          "text": [
            "svm accuracy: 0.9440484196368527\n",
            "lr accuracy: 0.9402824478816408\n",
            "np accuracy: 0.4772024209818426\n"
          ]
        }
      ],
      "source": [
        "# the final evaluation by looking ta accuracies\n",
        "svm_score=accuracy_score(y_test, y_pred_svm)\n",
        "lr_score=accuracy_score(y_test, y_pred_lr)\n",
        "np_score=accuracy_score(y_test, y_pred_np)\n",
        "\n",
        "\n",
        "print('svm accuracy:', str(svm_score))\n",
        "print('lr accuracy:', str(lr_score))\n",
        "print('np accuracy:', str(np_score))"
      ]
    }
  ],
  "metadata": {
    "kernelspec": {
      "display_name": "Python 3",
      "language": "python",
      "name": "python3"
    },
    "language_info": {
      "codemirror_mode": {
        "name": "ipython",
        "version": 3
      },
      "file_extension": ".py",
      "mimetype": "text/x-python",
      "name": "python",
      "nbconvert_exporter": "python",
      "pygments_lexer": "ipython3",
      "version": "3.8.8"
    },
    "colab": {
      "provenance": []
    }
  },
  "nbformat": 4,
  "nbformat_minor": 5
}